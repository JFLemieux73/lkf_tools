{
 "cells": [
  {
   "cell_type": "code",
   "execution_count": 3,
   "id": "f00f91bc-66b9-45a6-acd5-30de3f7b9b0b",
   "metadata": {},
   "outputs": [
    {
     "name": "stdout",
     "output_type": "stream",
     "text": [
      "The autoreload extension is already loaded. To reload it, use:\n",
      "  %reload_ext autoreload\n"
     ]
    }
   ],
   "source": [
    "%load_ext autoreload\n",
    "%autoreload 2\n",
    "\n",
    "from lkf_tools.detection import *\n",
    "from lkf_tools.rgps import *"
   ]
  },
  {
   "cell_type": "code",
   "execution_count": 14,
   "id": "54c5e173-a2af-4668-ada2-4c21c02c3e78",
   "metadata": {},
   "outputs": [],
   "source": [
    "test = read_RGPS('../data/RGPS/2005363_2006001.DIV')"
   ]
  },
  {
   "cell_type": "code",
   "execution_count": 11,
   "id": "79fa5296-7b35-4e30-86a1-3e9ee514eefd",
   "metadata": {},
   "outputs": [],
   "source": [
    "rfile = open('../data/RGPS/2005363_2006001.DIV','r',encoding= 'unicode_escape')"
   ]
  },
  {
   "cell_type": "code",
   "execution_count": 15,
   "id": "fc2d3b14-b4f7-4cc0-a4bb-63f1668f6561",
   "metadata": {},
   "outputs": [
    {
     "data": {
      "text/plain": [
       "(array([[1.e+10, 1.e+10, 1.e+10, ..., 1.e+20, 1.e+20, 1.e+20],\n",
       "        [1.e+10, 1.e+10, 1.e+10, ..., 1.e+20, 1.e+20, 1.e+20],\n",
       "        [1.e+10, 1.e+10, 1.e+10, ..., 1.e+20, 1.e+20, 1.e+20],\n",
       "        ...,\n",
       "        [1.e+20, 1.e+20, 1.e+20, ..., 1.e+10, 1.e+10, 1.e+10],\n",
       "        [1.e+20, 1.e+20, 1.e+20, ..., 1.e+10, 1.e+10, 1.e+10],\n",
       "        [1.e+20, 1.e+20, 1.e+20, ..., 1.e+10, 1.e+10, 1.e+10]],\n",
       "       dtype=float32),\n",
       " -2300.0,\n",
       " 1000.0,\n",
       " -1000.0,\n",
       " 2100.0,\n",
       " 264,\n",
       " 248)"
      ]
     },
     "execution_count": 15,
     "metadata": {},
     "output_type": "execute_result"
    }
   ],
   "source": [
    "test"
   ]
  },
  {
   "cell_type": "code",
   "execution_count": 16,
   "id": "f611e408-c093-43b4-a813-ea9e9ce5ac2e",
   "metadata": {},
   "outputs": [],
   "source": [
    "lon,lat = get_latlon_RGPS(test[1],test[2],test[3],test[4],test[5],test[6])"
   ]
  },
  {
   "cell_type": "code",
   "execution_count": 20,
   "id": "7a2ff405-d095-4023-aef6-96f259a2fe7b",
   "metadata": {},
   "outputs": [
    {
     "data": {
      "text/plain": [
       "62.24692249540107"
      ]
     },
     "execution_count": 20,
     "metadata": {},
     "output_type": "execute_result"
    }
   ],
   "source": []
  },
  {
   "cell_type": "code",
   "execution_count": null,
   "id": "52d75568-ce42-42e3-bb71-742a25469b82",
   "metadata": {},
   "outputs": [],
   "source": []
  }
 ],
 "metadata": {
  "kernelspec": {
   "display_name": "Python 3 (ipykernel)",
   "language": "python",
   "name": "python3"
  },
  "language_info": {
   "codemirror_mode": {
    "name": "ipython",
    "version": 3
   },
   "file_extension": ".py",
   "mimetype": "text/x-python",
   "name": "python",
   "nbconvert_exporter": "python",
   "pygments_lexer": "ipython3",
   "version": "3.10.2"
  }
 },
 "nbformat": 4,
 "nbformat_minor": 5
}
